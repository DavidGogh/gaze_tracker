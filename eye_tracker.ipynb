{
 "cells": [
  {
   "cell_type": "code",
   "execution_count": 1,
   "metadata": {
    "collapsed": true
   },
   "outputs": [],
   "source": [
    "%matplotlib inline\n",
    "\n",
    "import numpy as np\n",
    "import cv2\n",
    "import matplotlib.pyplot as plt\n",
    "from IPython import display\n",
    "import sys\n",
    "import os\n",
    "import dlib\n",
    "import glob\n",
    "from skimage import io\n",
    "from skimage.draw import circle"
   ]
  },
  {
   "cell_type": "code",
   "execution_count": 94,
   "metadata": {},
   "outputs": [
    {
     "data": {
      "text/plain": [
       "<matplotlib.image.AxesImage at 0x11e0d2a90>"
      ]
     },
     "execution_count": 94,
     "metadata": {},
     "output_type": "execute_result"
    },
    {
     "data": {
      "image/png": "[encoded data removed]",
      "text/plain": [
       "<matplotlib.figure.Figure at 0x11e085a58>"
      ]
     },
     "metadata": {},
     "output_type": "display_data"
    }
   ],
   "source": [
    "# uncomment to use front cam\n",
    "# vc = cv2.VideoCapture(0)\n",
    "\n",
    "# if vc.isOpened(): # try to get the first frame\n",
    "#     plt.pause(0.1)\n",
    "#     is_capturing, frame = vc.read()\n",
    "#     frame = cv2.cvtColor(frame, cv2.COLOR_BGR2RGB)    # makes the blues image look real colored\n",
    "#     plt.imshow(frame)    \n",
    "# else:\n",
    "#     is_capturing = False\n",
    "# vc.release()\n",
    "\n",
    "# test image\n",
    "frame = plt.imread('test.png')\n",
    "frame = np.array(frame[:,:,0:3], dtype=np.int8)\n",
    "plt.imshow(frame) "
   ]
  },
  {
   "cell_type": "code",
   "execution_count": 87,
   "metadata": {},
   "outputs": [],
   "source": [
    "# dlib face landmarks detection\n",
    "detector = dlib.get_frontal_face_detector()\n",
    "predictor = dlib.shape_predictor('./shape_predictor_68_face_landmarks.dat')\n",
    "\n",
    "class TooManyFaces(Exception):\n",
    "    pass\n",
    "\n",
    "class NoFaces(Exception):\n",
    "    pass\n",
    "\n",
    "# extract land marks\n",
    "def get_landmarks(im):\n",
    "    rects = detector(im, 1)\n",
    "    \n",
    "    if len(rects) > 1:\n",
    "        raise TooManyFaces\n",
    "    if len(rects) == 0:\n",
    "        raise NoFaces\n",
    "\n",
    "    return np.matrix([[p.x, p.y] for p in predictor(im, rects[0]).parts()])"
   ]
  },
  {
   "cell_type": "code",
   "execution_count": 88,
   "metadata": {
    "collapsed": true
   },
   "outputs": [],
   "source": [
    "class GetEyes():\n",
    "    def __init__(self, img):\n",
    "        self.img = img.copy()\n",
    "        landmarks = self.get_landmarks(frame)\n",
    "        self.left_eye_lms = landmarks[42:47]\n",
    "        self.right_eye_lms = landmarks[36:41]\n",
    "        self.left_eye_rect = self.get_rect(self.left_eye_lms)\n",
    "        self.right_eye_rect = self.get_rect(self.right_eye_lms)\n",
    "\n",
    "    @staticmethod\n",
    "    def get_landmarks(im):\n",
    "        # extract land marks representing the eyes\n",
    "        rects = detector(im, 1)\n",
    "\n",
    "        if len(rects) > 1:\n",
    "            raise TooManyFaces\n",
    "        if len(rects) == 0:\n",
    "            raise NoFaces\n",
    "\n",
    "        return np.matrix([[p.x, p.y] for p in predictor(im, rects[0]).parts()])\n",
    "    \n",
    "    @classmethod\n",
    "    def get_rect(self, landmarks):\n",
    "        # get rect from eye landmarks\n",
    "        border = 5\n",
    "        l_ul_x = min(landmarks[:,0])\n",
    "        l_ul_y = min(landmarks[:,1])\n",
    "        l_lr_x = max(landmarks[:,0])\n",
    "        l_lr_y = max(landmarks[:,1])\n",
    "        pt1 = (np.sum(l_ul_x)-border, np.sum(l_ul_y)-border)\n",
    "        pt2 = (np.sum(l_lr_x)+border, np.sum(l_lr_y)+border)\n",
    "        return [pt1, pt2]\n",
    "    \n",
    "    def draw(self):\n",
    "        # draw rect\n",
    "        eimg = self.img\n",
    "        eimg = cv2.rectangle(img, self.right_eye_rect[0], self.right_eye_rect[1], (255, 0, 0),thickness=3) \n",
    "        eimg = cv2.rectangle(img, self.left_eye_rect[0], self.left_eye_rect[1], (255, 0, 0),thickness=3) \n",
    "        plt.imshow(eimg)\n",
    "        return eimg\n",
    "    \n",
    "    def crop_right_eye(self):\n",
    "        # crop out right eye\n",
    "        return self.img[self.right_eye_rect[0][1]:self.right_eye_rect[1][1], self.right_eye_rect[0][0]:self.right_eye_rect[1][0]]\n",
    "    \n",
    "    def crop_left_eye(self):\n",
    "        # crop out left eye\n",
    "        return self.img[self.left_eye_rect[0][1]:self.left_eye_rect[1][1], self.left_eye_rect[0][0]:self.left_eye_rect[1][0]]\n",
    "        "
   ]
  },
  {
   "cell_type": "code",
   "execution_count": 89,
   "metadata": {},
   "outputs": [
    {
     "ename": "NoFaces",
     "evalue": "",
     "output_type": "error",
     "traceback": [
      "\u001b[0;31m---------------------------------------------------------------------------\u001b[0m",
      "\u001b[0;31mNoFaces\u001b[0m                                   Traceback (most recent call last)",
      "\u001b[0;32m<ipython-input-89-4f7a53666cd1>\u001b[0m in \u001b[0;36m<module>\u001b[0;34m()\u001b[0m\n\u001b[1;32m      1\u001b[0m \u001b[0mimg\u001b[0m \u001b[0;34m=\u001b[0m \u001b[0mframe\u001b[0m\u001b[0;34m.\u001b[0m\u001b[0mcopy\u001b[0m\u001b[0;34m(\u001b[0m\u001b[0;34m)\u001b[0m\u001b[0;34m\u001b[0m\u001b[0m\n\u001b[0;32m----> 2\u001b[0;31m \u001b[0meyes\u001b[0m \u001b[0;34m=\u001b[0m \u001b[0mGetEyes\u001b[0m\u001b[0;34m(\u001b[0m\u001b[0mimg\u001b[0m\u001b[0;34m)\u001b[0m\u001b[0;34m\u001b[0m\u001b[0m\n\u001b[0m\u001b[1;32m      3\u001b[0m \u001b[0mplt\u001b[0m\u001b[0;34m.\u001b[0m\u001b[0mimshow\u001b[0m\u001b[0;34m(\u001b[0m\u001b[0meyes\u001b[0m\u001b[0;34m.\u001b[0m\u001b[0mdraw\u001b[0m\u001b[0;34m(\u001b[0m\u001b[0;34m)\u001b[0m\u001b[0;34m)\u001b[0m\u001b[0;34m\u001b[0m\u001b[0m\n",
      "\u001b[0;32m<ipython-input-88-75c636b6b0f6>\u001b[0m in \u001b[0;36m__init__\u001b[0;34m(self, img)\u001b[0m\n\u001b[1;32m      2\u001b[0m     \u001b[0;32mdef\u001b[0m \u001b[0m__init__\u001b[0m\u001b[0;34m(\u001b[0m\u001b[0mself\u001b[0m\u001b[0;34m,\u001b[0m \u001b[0mimg\u001b[0m\u001b[0;34m)\u001b[0m\u001b[0;34m:\u001b[0m\u001b[0;34m\u001b[0m\u001b[0m\n\u001b[1;32m      3\u001b[0m         \u001b[0mself\u001b[0m\u001b[0;34m.\u001b[0m\u001b[0mimg\u001b[0m \u001b[0;34m=\u001b[0m \u001b[0mimg\u001b[0m\u001b[0;34m.\u001b[0m\u001b[0mcopy\u001b[0m\u001b[0;34m(\u001b[0m\u001b[0;34m)\u001b[0m\u001b[0;34m\u001b[0m\u001b[0m\n\u001b[0;32m----> 4\u001b[0;31m         \u001b[0mlandmarks\u001b[0m \u001b[0;34m=\u001b[0m \u001b[0mself\u001b[0m\u001b[0;34m.\u001b[0m\u001b[0mget_landmarks\u001b[0m\u001b[0;34m(\u001b[0m\u001b[0mframe\u001b[0m\u001b[0;34m)\u001b[0m\u001b[0;34m\u001b[0m\u001b[0m\n\u001b[0m\u001b[1;32m      5\u001b[0m         \u001b[0mself\u001b[0m\u001b[0;34m.\u001b[0m\u001b[0mleft_eye_lms\u001b[0m \u001b[0;34m=\u001b[0m \u001b[0mlandmarks\u001b[0m\u001b[0;34m[\u001b[0m\u001b[0;36m42\u001b[0m\u001b[0;34m:\u001b[0m\u001b[0;36m47\u001b[0m\u001b[0;34m]\u001b[0m\u001b[0;34m\u001b[0m\u001b[0m\n\u001b[1;32m      6\u001b[0m         \u001b[0mself\u001b[0m\u001b[0;34m.\u001b[0m\u001b[0mright_eye_lms\u001b[0m \u001b[0;34m=\u001b[0m \u001b[0mlandmarks\u001b[0m\u001b[0;34m[\u001b[0m\u001b[0;36m36\u001b[0m\u001b[0;34m:\u001b[0m\u001b[0;36m41\u001b[0m\u001b[0;34m]\u001b[0m\u001b[0;34m\u001b[0m\u001b[0m\n",
      "\u001b[0;32m<ipython-input-88-75c636b6b0f6>\u001b[0m in \u001b[0;36mget_landmarks\u001b[0;34m(im)\u001b[0m\n\u001b[1;32m     16\u001b[0m             \u001b[0;32mraise\u001b[0m \u001b[0mTooManyFaces\u001b[0m\u001b[0;34m\u001b[0m\u001b[0m\n\u001b[1;32m     17\u001b[0m         \u001b[0;32mif\u001b[0m \u001b[0mlen\u001b[0m\u001b[0;34m(\u001b[0m\u001b[0mrects\u001b[0m\u001b[0;34m)\u001b[0m \u001b[0;34m==\u001b[0m \u001b[0;36m0\u001b[0m\u001b[0;34m:\u001b[0m\u001b[0;34m\u001b[0m\u001b[0m\n\u001b[0;32m---> 18\u001b[0;31m             \u001b[0;32mraise\u001b[0m \u001b[0mNoFaces\u001b[0m\u001b[0;34m\u001b[0m\u001b[0m\n\u001b[0m\u001b[1;32m     19\u001b[0m \u001b[0;34m\u001b[0m\u001b[0m\n\u001b[1;32m     20\u001b[0m         \u001b[0;32mreturn\u001b[0m \u001b[0mnp\u001b[0m\u001b[0;34m.\u001b[0m\u001b[0mmatrix\u001b[0m\u001b[0;34m(\u001b[0m\u001b[0;34m[\u001b[0m\u001b[0;34m[\u001b[0m\u001b[0mp\u001b[0m\u001b[0;34m.\u001b[0m\u001b[0mx\u001b[0m\u001b[0;34m,\u001b[0m \u001b[0mp\u001b[0m\u001b[0;34m.\u001b[0m\u001b[0my\u001b[0m\u001b[0;34m]\u001b[0m \u001b[0;32mfor\u001b[0m \u001b[0mp\u001b[0m \u001b[0;32min\u001b[0m \u001b[0mpredictor\u001b[0m\u001b[0;34m(\u001b[0m\u001b[0mim\u001b[0m\u001b[0;34m,\u001b[0m \u001b[0mrects\u001b[0m\u001b[0;34m[\u001b[0m\u001b[0;36m0\u001b[0m\u001b[0;34m]\u001b[0m\u001b[0;34m)\u001b[0m\u001b[0;34m.\u001b[0m\u001b[0mparts\u001b[0m\u001b[0;34m(\u001b[0m\u001b[0;34m)\u001b[0m\u001b[0;34m]\u001b[0m\u001b[0;34m)\u001b[0m\u001b[0;34m\u001b[0m\u001b[0m\n",
      "\u001b[0;31mNoFaces\u001b[0m: "
     ]
    }
   ],
   "source": [
    "img = frame.copy()\n",
    "eyes = GetEyes(img)\n",
    "plt.imshow(eyes.draw())"
   ]
  },
  {
   "cell_type": "code",
   "execution_count": null,
   "metadata": {
    "collapsed": true
   },
   "outputs": [],
   "source": [
    "def preprocess(img):\n",
    "    # preprocess eye images\n",
    "    if len(img.shape)==3:\n",
    "        img = cv2.cvtColor(img, cv2.COLOR_RGB2GRAY)\n",
    "    #img = cv2.GaussianBlur(img,(3, 3),0);\n",
    "    img = cv2.medianBlur(img, 5)\n",
    "    windowClose = np.ones((5,5),np.uint8)\n",
    "    windowOpen = np.ones((3,3),np.uint8)\n",
    "    windowErode = np.ones((3,3),np.uint8)\n",
    "    img = cv2.morphologyEx(img, cv2.MORPH_CLOSE, windowClose)\n",
    "    #img = cv2.morphologyEx(img, cv2.MORPH_ERODE, windowErode)\n",
    "    img = cv2.morphologyEx(img, cv2.MORPH_OPEN, windowOpen)\n",
    "    #plt.imshow(img)\n",
    "    return img\n",
    "    \n",
    "def detect_pupil(img):\n",
    "    output = img.copy()\n",
    "    if len(img.shape)==3:\n",
    "        # use red channel because of human comlexion\n",
    "        img = preprocess(img[:,:,0])\n",
    "    # detect circles in the image\n",
    "    circles = cv2.HoughCircles(img, cv2.HOUGH_GRADIENT, 1, int(img.shape[1]/3),200,100,8,8)\n",
    "    \n",
    "    # ensure at least some circles were found\n",
    "    if circles is not None:\n",
    "        # convert the (x, y) coordinates and radius of the circles to integers\n",
    "        circles = np.round(circles[0, :]).astype(\"int\")\n",
    "        # loop over the (x, y) coordinates and radius of the circles\n",
    "        for (x, y, r) in circles:\n",
    "            # draw the circle in the output image, then draw a rectangle\n",
    "            # corresponding to the center of the circle\n",
    "            cv2.circle(output, (x, y), r, (255, 255, 255), 1)\n",
    "            cv2.rectangle(output, (x - 2, y - 2), (x + 2, y + 2), (255, 0, 0), 1)\n",
    "    return circles, output\n",
    "\n",
    "# def CannyThreshold(img, lowThreshold, kernel_size):  \n",
    "#     detected_edges = cv2.GaussianBlur(img,(5, 5),0)  \n",
    "#     detected_edges = cv2.Canny(detected_edges,lowThreshold,lowThreshold*ratio,apertureSize = kernel_size)  \n",
    "#     dst = cv2.bitwise_and(img, img, mask = ~detected_edges)  # just add some colours to edges from original image.  \n",
    "#     plt.imshow(dst)\n",
    "#     return detected_edges\n",
    "\n",
    "\n",
    "# lowThreshold = 45 \n",
    "# ratio = 2 \n",
    "# kernel_size = 3  \n",
    "# detected_edges = CannyThreshold(eye_img_r, lowThreshold, kernel_size)  # initialization  "
   ]
  },
  {
   "cell_type": "code",
   "execution_count": 84,
   "metadata": {},
   "outputs": [
    {
     "data": {
      "text/plain": [
       "<matplotlib.image.AxesImage at 0x11d36b828>"
      ]
     },
     "execution_count": 84,
     "metadata": {},
     "output_type": "execute_result"
    },
    {
     "data": {
      "image/png": "[encoded data removed]",
      "text/plain": [
       "<matplotlib.figure.Figure at 0x11e06afd0>"
      ]
     },
     "metadata": {},
     "output_type": "display_data"
    }
   ],
   "source": [
    "eye_img_r = eyes.crop_right_eye()\n",
    "eye_img_l = eyes.crop_left_eye()\n",
    "proc_r = preprocess(eye_img_r)\n",
    "proc_l = preprocess(eye_img_l)\n",
    "\n",
    "# display right and left eye image\n",
    "fig = plt.figure()\n",
    "ax1 = fig.add_subplot(2,2,1)\n",
    "ax1.imshow(eye_img_r)\n",
    "ax2 = fig.add_subplot(2,2,2)\n",
    "ax2.imshow(eye_img_l)\n",
    "ax1 = fig.add_subplot(2,2,3)\n",
    "ax1.imshow(proc_r)\n",
    "ax2 = fig.add_subplot(2,2,4)\n",
    "ax2.imshow(proc_l)"
   ]
  },
  {
   "cell_type": "code",
   "execution_count": 85,
   "metadata": {},
   "outputs": [
    {
     "name": "stdout",
     "output_type": "stream",
     "text": [
      "[[38 10 11]]\n",
      "[[32 10 12]]\n"
     ]
    },
    {
     "data": {
      "image/png": "[encoded data removed]",
      "text/plain": [
       "<matplotlib.figure.Figure at 0x11e48c4e0>"
      ]
     },
     "metadata": {},
     "output_type": "display_data"
    }
   ],
   "source": [
    "circles_r, output_r = detect_pupil(eye_img_r)\n",
    "circles_l, output_l = detect_pupil(eye_img_l)\n",
    "fig = plt.figure()\n",
    "ax1 = fig.add_subplot(2,2,1)\n",
    "ax1.imshow(output_r)\n",
    "ax2 = fig.add_subplot(2,2,2)\n",
    "ax2.imshow(output_l)\n",
    "print(circles_r)\n",
    "print(circles_l)"
   ]
  },
  {
   "cell_type": "code",
   "execution_count": null,
   "metadata": {
    "collapsed": true
   },
   "outputs": [],
   "source": []
  },
  {
   "cell_type": "code",
   "execution_count": null,
   "metadata": {
    "collapsed": true
   },
   "outputs": [],
   "source": []
  }
 ],
 "metadata": {
  "kernelspec": {
   "display_name": "Python 3",
   "language": "python",
   "name": "python3"
  },
  "language_info": {
   "codemirror_mode": {
    "name": "ipython",
    "version": 3
   },
   "file_extension": ".py",
   "mimetype": "text/x-python",
   "name": "python",
   "nbconvert_exporter": "python",
   "pygments_lexer": "ipython3",
   "version": "3.6.1"
  },
  "latex_envs": {
   "LaTeX_envs_menu_present": true,
   "autocomplete": false,
   "bibliofile": "biblio.bib",
   "cite_by": "apalike",
   "current_citInitial": 1,
   "eqLabelWithNumbers": true,
   "eqNumInitial": 1,
   "hotkeys": {
    "equation": "Ctrl-E",
    "itemize": "Ctrl-I"
   },
   "labels_anchors": false,
   "latex_user_defs": false,
   "report_style_numbering": false,
   "user_envs_cfg": false
  },
  "toc": {
   "colors": {
    "hover_highlight": "#DAA520",
    "navigate_num": "#000000",
    "navigate_text": "#333333",
    "running_highlight": "#FF0000",
    "selected_highlight": "#FFD700",
    "sidebar_border": "#EEEEEE",
    "wrapper_background": "#FFFFFF"
   },
   "moveMenuLeft": true,
   "nav_menu": {
    "height": "12px",
    "width": "252px"
   },
   "navigate_menu": true,
   "number_sections": true,
   "sideBar": true,
   "threshold": 4,
   "toc_cell": false,
   "toc_section_display": "block",
   "toc_window_display": false,
   "widenNotebook": false
  }
 },
 "nbformat": 4,
 "nbformat_minor": 2
}
